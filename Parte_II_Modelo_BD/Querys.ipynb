{
 "cells": [
  {
   "cell_type": "code",
   "execution_count": 2,
   "metadata": {},
   "outputs": [],
   "source": [
    "import pandas as pd\n",
    "import sqlite3"
   ]
  },
  {
   "cell_type": "code",
   "execution_count": 3,
   "metadata": {},
   "outputs": [],
   "source": [
    "connection = sqlite3.connect(\"BD_Suministros\")\n",
    "cursor = connection.cursor()"
   ]
  },
  {
   "cell_type": "markdown",
   "metadata": {},
   "source": [
    "# Miramos los nombres de los proveedores"
   ]
  },
  {
   "cell_type": "code",
   "execution_count": null,
   "metadata": {},
   "outputs": [],
   "source": [
    "query = '''    \n",
    "SELECT nombre\n",
    "FROM proveedores\n",
    "'''\n",
    "\n",
    "pd.read_sql(query, connection)"
   ]
  },
  {
   "cell_type": "markdown",
   "metadata": {},
   "source": [
    "# Miramos en la tabla suministros cuantos proveedores nos sirven la pieza con el \"id 1\"."
   ]
  },
  {
   "cell_type": "code",
   "execution_count": null,
   "metadata": {},
   "outputs": [],
   "source": [
    "query = '''   \n",
    "SELECT *\n",
    "FROM suministros \n",
    "WHERE pieza_id = 1\n",
    "'''\n",
    "pd.read_sql(query, connection)"
   ]
  },
  {
   "cell_type": "markdown",
   "metadata": {},
   "source": [
    "# Vemos el color real de las piezas, no solo su codigo. Para ellos hacemos un LEFT JOIN de la tabla piezas y colores."
   ]
  },
  {
   "cell_type": "code",
   "execution_count": null,
   "metadata": {},
   "outputs": [],
   "source": [
    "query = '''   \n",
    "SELECT  p.*, c.color\n",
    "FROM piezas AS p\n",
    "LEFT JOIN colores AS c\n",
    "ON p.color_id = c.color_id\n",
    "'''\n",
    "pd.read_sql(query, connection)"
   ]
  },
  {
   "cell_type": "markdown",
   "metadata": {},
   "source": [
    "# Vemos cuantos proveedores son de Madrid, que cantidad de piezas nos suministran y en que fechas"
   ]
  },
  {
   "cell_type": "code",
   "execution_count": null,
   "metadata": {},
   "outputs": [],
   "source": [
    "query = '''   \n",
    "SELECT  p.nombre, s.cantidad, s.fecha\n",
    "FROM proveedores AS p\n",
    "LEFT JOIN suministros AS s\n",
    "ON p.proveedor_id = s.proveedor_id\n",
    "WHERE ciudad = \"Madrid\"\n",
    "'''\n",
    "pd.read_sql(query, connection)"
   ]
  }
 ],
 "metadata": {
  "kernelspec": {
   "display_name": "Python 3",
   "language": "python",
   "name": "python3"
  },
  "language_info": {
   "codemirror_mode": {
    "name": "ipython",
    "version": 3
   },
   "file_extension": ".py",
   "mimetype": "text/x-python",
   "name": "python",
   "nbconvert_exporter": "python",
   "pygments_lexer": "ipython3",
   "version": "3.12.3"
  }
 },
 "nbformat": 4,
 "nbformat_minor": 2
}
