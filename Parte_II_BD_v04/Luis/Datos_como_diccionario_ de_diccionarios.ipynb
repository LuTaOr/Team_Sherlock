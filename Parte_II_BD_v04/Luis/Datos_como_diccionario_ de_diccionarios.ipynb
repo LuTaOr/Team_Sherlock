{
 "cells": [
  {
   "cell_type": "code",
   "execution_count": null,
   "metadata": {},
   "outputs": [],
   "source": [
    "datos_2 = {\n",
    "   \"ciudades\" : {\"ciudad\" : (\"Getafe\", \"Vilareal\", \"Lugo\", \"Madrid\", \"Cadiz\", \"Calatayud\"), \n",
    "                 \"provincia\" : (\"Madrid\" ,\"Castellon\",\"Lugo\",\"Madrid\",\"Cadiz\",\"Zaragoza\")},\n",
    "   \"proveedores\" :{\"proveedir_id\":(3,34,23,67,6,90), \n",
    "                   \"nombre\":(\"Grupale\",\"Herraca\",\"Maquinas Navarro\",\"Reparmur\",\"Excavaciones Tomas\",\"Servired\"),\n",
    "                   \"direccion\":(\"Buenavista 3\",\"Malavista 4\",\"Rio Ebro 4\",\"Hermanos Martinez 56\",\"Molino 34\",\"Desesperacion 67\"),\n",
    "                   \"ciudad\" : (\"Getafe\", \"Vilareal\", \"Lugo\", \"Madrid\", \"Cadiz\", \"Calatayud\")\n",
    "                   },\n",
    "   \"suministros\" : {\"suministro_id\":(1,16,24,41,78,96),\n",
    "                   \"pieza_id\":(452,74,895,12,4,89),\n",
    "                   }}\n",
    "\n",
    "  \n",
    "\n"
   ]
  },
  {
   "cell_type": "code",
   "execution_count": null,
   "metadata": {},
   "outputs": [],
   "source": []
  }
 ],
 "metadata": {
  "kernelspec": {
   "display_name": "Python 3",
   "language": "python",
   "name": "python3"
  },
  "language_info": {
   "codemirror_mode": {
    "name": "ipython",
    "version": 3
   },
   "file_extension": ".py",
   "mimetype": "text/x-python",
   "name": "python",
   "nbconvert_exporter": "python",
   "pygments_lexer": "ipython3",
   "version": "3.12.3"
  }
 },
 "nbformat": 4,
 "nbformat_minor": 2
}
