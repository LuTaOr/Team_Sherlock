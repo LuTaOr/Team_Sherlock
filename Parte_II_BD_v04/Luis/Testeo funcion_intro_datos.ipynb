{
 "cells": [
  {
   "cell_type": "code",
   "execution_count": 2,
   "metadata": {},
   "outputs": [],
   "source": [
    "import pandas as pd"
   ]
  },
  {
   "cell_type": "markdown",
   "metadata": {},
   "source": [
    "# Ciudades"
   ]
  },
  {
   "cell_type": "code",
   "execution_count": 3,
   "metadata": {},
   "outputs": [
    {
     "name": "stdout",
     "output_type": "stream",
     "text": [
      "INSERT INTO ciudades ('ciudad', 'provincia')\n",
      "                VALUES ('Getafe', 'Madrid')\n",
      "INSERT INTO ciudades ('ciudad', 'provincia')\n",
      "                VALUES ('Vilareal', 'Castellon')\n",
      "INSERT INTO ciudades ('ciudad', 'provincia')\n",
      "                VALUES ('Lugo', 'Lugo')\n",
      "INSERT INTO ciudades ('ciudad', 'provincia')\n",
      "                VALUES ('Madrid', 'Madrid')\n",
      "INSERT INTO ciudades ('ciudad', 'provincia')\n",
      "                VALUES ('Cadiz', 'Cadiz')\n",
      "INSERT INTO ciudades ('ciudad', 'provincia')\n",
      "                VALUES ('Catalayud', 'Zaragoza')\n"
     ]
    }
   ],
   "source": [
    "ruta = \"./CSVs_para_migrar_a_BD/ciudades.csv\" # sera uno de los argumentos de la funcion\n",
    "tabla = \"ciudades\" # sera uno de los argumentos de la funcion\n",
    "\n",
    "df_csv = pd.read_csv(ruta, sep=\";\") # convierte el csv en un pd\n",
    "lista_dict = list(df_csv.keys()) # saca la info de los nombres de las columnas pasandolas a una lista\n",
    "df_csv.set_index(lista_dict, inplace = True) # quitamos el indice implicito y dejamos solo las columnas, no hay columna indice\n",
    "columnas = tuple(df_csv.index.names) # pasa a tupla los nombres de las columnas para poder ser usado directamente en la query\n",
    "\n",
    "for i in range(0,len(df_csv.index)):  # recorre el bucle tantas veces como filas haya que introducir  \n",
    "       \n",
    "    query = f'''INSERT INTO {tabla} {columnas}\n",
    "                VALUES {df_csv.index[i]}'''\n",
    "    print(query)  # se imprime solo para ver como lo devuelve. Se ha probado en el main.py con el formato que devuelve y si que funciona"
   ]
  },
  {
   "cell_type": "markdown",
   "metadata": {},
   "source": [
    "# Proveedores "
   ]
  },
  {
   "cell_type": "code",
   "execution_count": 4,
   "metadata": {},
   "outputs": [
    {
     "name": "stdout",
     "output_type": "stream",
     "text": [
      "INSERT INTO proveedores ('proveedor_id', 'nombre', 'direccion', 'ciudad')\n",
      "                VALUES (1, 'Grupale', 'Buenavista 3', 'Getafe')\n",
      "INSERT INTO proveedores ('proveedor_id', 'nombre', 'direccion', 'ciudad')\n",
      "                VALUES (2, 'Herraca', 'Malavista 4', 'Vilareal')\n",
      "INSERT INTO proveedores ('proveedor_id', 'nombre', 'direccion', 'ciudad')\n",
      "                VALUES (3, 'Maquinas Navarr', 'Rio Ebro 4', 'Lugo')\n",
      "INSERT INTO proveedores ('proveedor_id', 'nombre', 'direccion', 'ciudad')\n",
      "                VALUES (4, 'Reparmur', 'Hermanos Martinez 56', 'Madrid')\n",
      "INSERT INTO proveedores ('proveedor_id', 'nombre', 'direccion', 'ciudad')\n",
      "                VALUES (5, 'Excavaciones Tomas', 'Molino 34', 'Cadiz')\n",
      "INSERT INTO proveedores ('proveedor_id', 'nombre', 'direccion', 'ciudad')\n",
      "                VALUES (6, 'Servired', 'Desesperacion 67', 'Catalayud')\n"
     ]
    }
   ],
   "source": [
    "tabla = \"proveedores\" \n",
    "ruta = \"./CSVs_para_migrar_a_BD/proveedores.csv\" \n",
    "\n",
    "\n",
    "df_csv = pd.read_csv(ruta, sep=\";\") \n",
    "lista_dict = list(df_csv.keys()) \n",
    "df_csv.set_index(lista_dict, inplace = True) \n",
    "columnas = tuple(df_csv.index.names) \n",
    "\n",
    "for i in range(0,len(df_csv.index)):  \n",
    "       \n",
    "    query = f'''INSERT INTO {tabla} {columnas}\n",
    "                VALUES {df_csv.index[i]}'''\n",
    "    print(query)  # se imprime solo para ver como lo devuelve. Se ha probado en el main.py con el formato que devuelve y si que funciona"
   ]
  },
  {
   "cell_type": "markdown",
   "metadata": {},
   "source": [
    "# Suministros"
   ]
  },
  {
   "cell_type": "code",
   "execution_count": 5,
   "metadata": {},
   "outputs": [
    {
     "name": "stdout",
     "output_type": "stream",
     "text": [
      "INSERT INTO suministros ('suministro_id', 'pieza_id', 'proveedor_id', 'cantidad', 'fecha')\n",
      "                VALUES (1, 1, 1, 100, '01/02/2024')\n",
      "INSERT INTO suministros ('suministro_id', 'pieza_id', 'proveedor_id', 'cantidad', 'fecha')\n",
      "                VALUES (2, 2, 2, 450, '02/02/2024')\n",
      "INSERT INTO suministros ('suministro_id', 'pieza_id', 'proveedor_id', 'cantidad', 'fecha')\n",
      "                VALUES (3, 3, 3, 45, '03/02/2024')\n",
      "INSERT INTO suministros ('suministro_id', 'pieza_id', 'proveedor_id', 'cantidad', 'fecha')\n",
      "                VALUES (4, 4, 4, 740, '04/02/2024')\n",
      "INSERT INTO suministros ('suministro_id', 'pieza_id', 'proveedor_id', 'cantidad', 'fecha')\n",
      "                VALUES (5, 5, 5, 780, '05/02/2024')\n",
      "INSERT INTO suministros ('suministro_id', 'pieza_id', 'proveedor_id', 'cantidad', 'fecha')\n",
      "                VALUES (6, 6, 6, 30, '06/02/2024')\n"
     ]
    }
   ],
   "source": [
    "tabla = \"suministros\" \n",
    "ruta = \"./CSVs_para_migrar_a_BD/suministros.csv\" \n",
    "\n",
    "\n",
    "df_csv = pd.read_csv(ruta, sep=\";\") \n",
    "lista_dict = list(df_csv.keys()) \n",
    "df_csv.set_index(lista_dict, inplace = True) \n",
    "columnas = tuple(df_csv.index.names) \n",
    "\n",
    "for i in range(0,len(df_csv.index)):  \n",
    "       \n",
    "    query = f'''INSERT INTO {tabla} {columnas}\n",
    "                VALUES {df_csv.index[i]}'''\n",
    "    print(query)  # se imprime solo para ver como lo devuelve. Se ha probado en el main.py con el formato que devuelve y si que funciona"
   ]
  }
 ],
 "metadata": {
  "kernelspec": {
   "display_name": "Python 3",
   "language": "python",
   "name": "python3"
  },
  "language_info": {
   "codemirror_mode": {
    "name": "ipython",
    "version": 3
   },
   "file_extension": ".py",
   "mimetype": "text/x-python",
   "name": "python",
   "nbconvert_exporter": "python",
   "pygments_lexer": "ipython3",
   "version": "3.12.3"
  }
 },
 "nbformat": 4,
 "nbformat_minor": 2
}
